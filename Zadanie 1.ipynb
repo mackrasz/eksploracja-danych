{
  "nbformat": 4,
  "nbformat_minor": 0,
  "metadata": {
    "colab": {
      "name": "python_intro.ipynb",
      "provenance": [],
      "collapsed_sections": [],
      "authorship_tag": "ABX9TyPMOzmJypbOn4FhK1DSmBaQ",
      "include_colab_link": true
    },
    "kernelspec": {
      "name": "python3",
      "display_name": "Python 3"
    }
  },
  "cells": [
    {
      "cell_type": "markdown",
      "metadata": {
        "id": "view-in-github",
        "colab_type": "text"
      },
      "source": [
        "<a href=\"https://colab.research.google.com/github/mackrasz/cyfrowe_przetwarzanie_obrazow/blob/master/Zadanie%201.ipynb\" target=\"_parent\"><img src=\"https://colab.research.google.com/assets/colab-badge.svg\" alt=\"Open In Colab\"/></a>"
      ]
    },
    {
      "cell_type": "markdown",
      "metadata": {
        "id": "frk6_1wqYjAG"
      },
      "source": [
        "# **Wprowadzenie do Pythona**"
      ]
    },
    {
      "cell_type": "markdown",
      "metadata": {
        "id": "MgV45XArYnZD"
      },
      "source": [
        "Twoim pierwszym zadaniem jest nauczyć się podstaw programowania w języku Python. W tym celu spróbuj napisać w nim funkcję znajdującą najkrótszą drogę pomiędzy dwoma punktami w labiryncie."
      ]
    },
    {
      "cell_type": "markdown",
      "metadata": {
        "id": "_J1krVo0Y_nk"
      },
      "source": [
        "## **Import modułów Pythona**\n",
        "Jedną z zalet Pythona jest szeroki wybór bibliotek importowanych w postaci tzw. \"modułów\". My wykorzystamy tutaj dwa takie moduły: NumPy, który ułatwi nam pracę na dwuwymiarowych tablicach oraz PyPlot, który posłuży nam do generowania rysunków. Oba te moduły będziemy często stosowali później do eksperymentów z przetwarzaniem obrazów. \n",
        "\n",
        "Aby zacząć musimy zaimportować moduły przy pomocy słowa kluczowego \"import\":"
      ]
    },
    {
      "cell_type": "code",
      "metadata": {
        "id": "TLvivncKYml6"
      },
      "source": [
        "import numpy as np\n",
        "import matplotlib.pyplot as plt"
      ],
      "execution_count": 1,
      "outputs": []
    },
    {
      "cell_type": "markdown",
      "metadata": {
        "id": "KS2hKfSeZ2OX"
      },
      "source": [
        "## **Reprezentacja labiryntu**\n",
        "Labirynt będziemy reprezentować jako dwuwymiarową tablicę, w której:\n",
        "*   pola po których możemy się poruszać będą oznaczone jako 0,\n",
        "*   przeszkody będą oznaczone jako 1,\n",
        "*   wejście będzie oznaczone jako 2,\n",
        "*   wyjście będzie oznaczone jako 3.\n",
        "\n",
        "Do reprezentacji tablicy posłuży nam klasa ndarray z modułu Numpy:\n"
      ]
    },
    {
      "cell_type": "code",
      "metadata": {
        "id": "NIKFg7EoZ1xz"
      },
      "source": [
        "maze = np.array([[0, 0, 1, 0, 2, 0],\n",
        "                 [0, 0, 1, 0, 0, 0],\n",
        "                 [1, 1, 1, 0, 0, 0],\n",
        "                 [1, 0, 1, 1, 1, 0],\n",
        "                 [1, 0, 0, 0, 0, 0],\n",
        "                 [1, 0, 1, 0, 1, 0],\n",
        "                 [3, 1, 1, 0, 1, 0],\n",
        "                 [0, 0, 0, 0, 0, 0]])"
      ],
      "execution_count": 2,
      "outputs": []
    },
    {
      "cell_type": "markdown",
      "metadata": {
        "id": "S806pEebc7Qa"
      },
      "source": [
        "## **Rysowanie labiryntu**\n",
        "Labirynt możemy bardzo prosto narysować za pomocą moduły Pyplot:"
      ]
    },
    {
      "cell_type": "code",
      "metadata": {
        "id": "OPYICyJyc1n1",
        "outputId": "6ef0cdad-33fa-44ff-a582-ded2591c9e80",
        "colab": {
          "base_uri": "https://localhost:8080/",
          "height": 503
        }
      },
      "source": [
        "plt.figure(figsize=(8, 8))\n",
        "plt.imshow(maze)\n",
        "plt.clim(0, 4)\n",
        "plt.colorbar()"
      ],
      "execution_count": 3,
      "outputs": [
        {
          "output_type": "execute_result",
          "data": {
            "text/plain": [
              "<matplotlib.colorbar.Colorbar at 0x7f26a1409550>"
            ]
          },
          "metadata": {
            "tags": []
          },
          "execution_count": 3
        },
        {
          "output_type": "display_data",
          "data": {
            "image/png": "[encoded data removed]",
            "text/plain": [
              "<Figure size 576x576 with 2 Axes>"
            ]
          },
          "metadata": {
            "tags": [],
            "needs_background": "light"
          }
        }
      ]
    },
    {
      "cell_type": "markdown",
      "metadata": {
        "id": "glMdsQHhdgRl"
      },
      "source": [
        "## **Zadanie do wykonania**\n",
        "Twoim zadaniem jest napisać funkcję, która znajdzie w labiryncie najkrótszą ścieżkę od wejścia do wyjścia i oznaczy ją zapisując w polach należących do ścieżki wartości 4. Prototyp funkcji znajdziesz poniżej. Nie modyfikuj go, a jedynie uzupełnij ciało funkcji.\n",
        "\n",
        "Po labiryncie można się poruszać jedynie po liniach prostych w pionie i poziomie.\n",
        "\n",
        "**Wskazówka 1. Do znalezienia ścieżki w labiryncie możesz spróbować użyć algorytmu przeszukiwania grafu wszerz. Rozważ pola labiryntu, po których możesz się poruszać jako węzły grafu, który przeszukujesz.**\n",
        "\n",
        "**Wskazówka 2. Do znalezienia indeksów pól z wejściem i wyjściem z labiryntu możesz użyć funkcji argwhere z modułu Numpy**"
      ]
    },
    {
      "cell_type": "code",
      "metadata": {
        "id": "ogMnuqLZdGLb"
      },
      "source": [
        "def find_path(maze):\n",
        "  #Tutaj umieść swój kod, który zapisze labirynt ze znalezioną ścieżką\n",
        "  #do zmiennej maze_with_path\n",
        "\n",
        "  return maze_with_path"
      ],
      "execution_count": 4,
      "outputs": []
    },
    {
      "cell_type": "markdown",
      "metadata": {
        "id": "6VMm4XLusOUb"
      },
      "source": [
        "Poniższy kod pokazuje jak należy użyć funkcji find_path i narysować labirynt ze znalezioną ścieżką:"
      ]
    },
    {
      "cell_type": "code",
      "metadata": {
        "id": "1aWFEFsljz6z",
        "outputId": "98ebc993-6587-4196-dd17-43eb8a1a1744",
        "colab": {
          "base_uri": "https://localhost:8080/",
          "height": 503
        }
      },
      "source": [
        "maze_with_path = find_path(maze)\n",
        "\n",
        "plt.figure(figsize=(8, 8))\n",
        "plt.imshow(maze_with_path)\n",
        "plt.clim(0, 4)\n",
        "plt.colorbar()"
      ],
      "execution_count": 5,
      "outputs": [
        {
          "output_type": "execute_result",
          "data": {
            "text/plain": [
              "<matplotlib.colorbar.Colorbar at 0x7f26a0ebdba8>"
            ]
          },
          "metadata": {
            "tags": []
          },
          "execution_count": 5
        },
        {
          "output_type": "display_data",
          "data": {
            "image/png": "[encoded data removed]",
            "text/plain": [
              "<Figure size 576x576 with 2 Axes>"
            ]
          },
          "metadata": {
            "tags": [],
            "needs_background": "light"
          }
        }
      ]
    },
    {
      "cell_type": "code",
      "metadata": {
        "id": "F5wAPypcrNO7"
      },
      "source": [
        ""
      ],
      "execution_count": null,
      "outputs": []
    }
  ]
}